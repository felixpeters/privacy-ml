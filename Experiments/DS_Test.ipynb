{
 "cells": [
  {
   "cell_type": "code",
   "execution_count": 1,
   "id": "13b4a458-592c-4655-aad9-361965349dbc",
   "metadata": {},
   "outputs": [],
   "source": [
    "import syft as sy\n",
    "import torch\n",
    "from tools import models\n",
    "import numpy as np"
   ]
  },
  {
   "cell_type": "code",
   "execution_count": null,
   "id": "30127c81-74c2-4c22-aed8-e01b786a64e1",
   "metadata": {},
   "outputs": [],
   "source": [
    "duet = sy.join_duet(loopback=True)"
   ]
  },
  {
   "cell_type": "code",
   "execution_count": null,
   "id": "e651e4cb-754b-4498-92c5-de1b8ec55fed",
   "metadata": {},
   "outputs": [],
   "source": [
    "train_data_ptr = duet.store[0]\n",
    "train_labels_ptr = duet.store[1]\n",
    "\n",
    "test_data_ptr = duet.store[2]\n",
    "test_labels_ptr = duet.store[3]"
   ]
  },
  {
   "cell_type": "code",
   "execution_count": null,
   "id": "315d603d-da4d-4650-a06c-69411dc72724",
   "metadata": {},
   "outputs": [],
   "source": [
    "local_model = models.Deep2DNet(torch)\n",
    "remote_model = local_model.send(duet)\n",
    "remote_torch = duet.torch\n",
    "\n",
    "params = remote_model.parameters()\n",
    "optim = remote_torch.optim.Adam(params=params, lr=0.001)\n",
    "loss_function = remote_torch.nn.CrossEntropyLoss()\n",
    "\n",
    "cuda_available = remote_torch.cuda.is_available().get(request_block=True, reason='Gimme!')\n",
    "\n",
    "if cuda_available:\n",
    "    device = remote_torch.device('cuda:0')\n",
    "    remote_model.cuda(device)\n",
    "else:\n",
    "    device = remote_torch.device('cpu')\n",
    "    remote_model.cpu()"
   ]
  },
  {
   "cell_type": "code",
   "execution_count": null,
   "id": "7519d7d2-7dbd-4a04-aab8-8ae0a68dfc33",
   "metadata": {},
   "outputs": [],
   "source": [
    "from tools.utils import train\n",
    "\n",
    "train(300, 1, remote_model, remote_torch, optim, loss_function,\n",
    "      train_data_ptr, train_labels_ptr, test_data_ptr, test_labels_ptr, [1, 64, 64], device)"
   ]
  },
  {
   "cell_type": "code",
   "execution_count": null,
   "id": "b03a89eb-fc14-44bd-90b2-9216d6ef32ae",
   "metadata": {},
   "outputs": [],
   "source": [
    "def train(batch_size, epochs, model, torch_ref, optim, loss_function, data, labels, input_shape):\n",
    "    length = len(data)\n",
    "    \n",
    "    if length % batch_size != 0:\n",
    "        cut_data = data[:length - length % batch_size]\n",
    "        cut_labels = labels[:length - length % batch_size]\n",
    "        \n",
    "    shape = [-1, batch_size]\n",
    "    shape.extend(input_shape)\n",
    "    \n",
    "    batch_data = cut_data.view(shape).to(device)\n",
    "    batch_labels = cut_labels.view(-1, batch_size).to(device)\n",
    "    \n",
    "    for epoch in range(epochs):\n",
    "        model.train()\n",
    "        \n",
    "        print(f'###### Epoch {epoch + 1} ######')\n",
    "        for i in range(int(length / batch_size)):\n",
    "            optim.zero_grad()\n",
    "            \n",
    "            output = model(batch_data[i])\n",
    "            \n",
    "            loss = loss_function(output, batch_labels[i])\n",
    "            loss_item = loss.item()\n",
    "            loss_value = loss_item.get_copy(reason=\"To evaluate training progress\", request_block=True, timeout_secs=5)\n",
    "            print(f'Training Loss: {loss_value}')\n",
    "        \n",
    "            loss.backward()\n",
    "            optim.step()\n",
    "        \n",
    "        test(model, loss_function, torch_ref, test_data_ptr, test_labels_ptr)\n",
    "                   \n",
    "def test(model, loss_function, remote_torch, data, labels):\n",
    "    model.eval()\n",
    "    \n",
    "    data = data.to(device)\n",
    "    labels = labels.to(device)\n",
    "    length = len(data)\n",
    "    \n",
    "    with remote_torch.no_grad():\n",
    "        output = model(data)\n",
    "        test_loss = loss_function(output, labels)\n",
    "        prediction = output.argmax(dim=1)\n",
    "        total = prediction.eq(labels).sum().item()\n",
    "        \n",
    "    acc_ptr = total / length\n",
    "    acc = acc_ptr.get(request_block=True, reason='Gimme!')\n",
    "    loss = test_loss.get(request_block=True, reason='Gimme!')\n",
    "    \n",
    "    print(f'Test Accuracy: {acc} --- Test Loss: {loss}')\n",
    "\n",
    "train(300, 1, remote_model, remote_torch, optim, loss_function, train_data_ptr, train_labels_ptr, [1, 64, 64])"
   ]
  },
  {
   "cell_type": "code",
   "execution_count": null,
   "id": "53ab4bc4-001f-4592-9312-1c33c8973292",
   "metadata": {},
   "outputs": [],
   "source": [
    "duet.python"
   ]
  }
 ],
 "metadata": {
  "kernelspec": {
   "display_name": "Python 3",
   "language": "python",
   "name": "python3"
  },
  "language_info": {
   "codemirror_mode": {
    "name": "ipython",
    "version": 3
   },
   "file_extension": ".py",
   "mimetype": "text/x-python",
   "name": "python",
   "nbconvert_exporter": "python",
   "pygments_lexer": "ipython3",
   "version": "3.9.4"
  }
 },
 "nbformat": 4,
 "nbformat_minor": 5
}
