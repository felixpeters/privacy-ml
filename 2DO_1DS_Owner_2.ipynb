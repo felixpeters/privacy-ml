{
 "cells": [
  {
   "cell_type": "code",
   "execution_count": null,
   "id": "0c505b0e-2ab1-40f6-95a8-9b1460d90820",
   "metadata": {},
   "outputs": [],
   "source": [
    "import syft as sy\n",
    "from tools import datasets\n",
    "import time\n",
    "\n",
    "sy.load('opacus')"
   ]
  },
  {
   "cell_type": "code",
   "execution_count": null,
   "id": "3d1a68f4-524b-43fc-87ee-7c4ce3f695f2",
   "metadata": {},
   "outputs": [],
   "source": [
    "duet = sy.launch_duet(loopback=True)"
   ]
  }
 ],
 "metadata": {
  "kernelspec": {
   "display_name": "Python 3",
   "language": "python",
   "name": "python3"
  },
  "language_info": {
   "codemirror_mode": {
    "name": "ipython",
    "version": 3
   },
   "file_extension": ".py",
   "mimetype": "text/x-python",
   "name": "python",
   "nbconvert_exporter": "python",
   "pygments_lexer": "ipython3",
   "version": "3.9.4"
  }
 },
 "nbformat": 4,
 "nbformat_minor": 5
}
