{
 "cells": [
  {
   "cell_type": "code",
   "execution_count": null,
   "id": "a9e89214-f746-4105-9fc0-8836bb01dde3",
   "metadata": {},
   "outputs": [],
   "source": [
    "import syft as sy\n",
    "from tools import datasets\n",
    "import time\n",
    "\n",
    "sy.load('opacus')"
   ]
  },
  {
   "cell_type": "code",
   "execution_count": null,
   "id": "cf34b5ea-1f6b-4eae-be92-b6e3dedbea8e",
   "metadata": {},
   "outputs": [],
   "source": [
    "duet = sy.launch_duet(loopback=True)"
   ]
  }
 ],
 "metadata": {
  "kernelspec": {
   "display_name": "Python 3",
   "language": "python",
   "name": "python3"
  },
  "language_info": {
   "codemirror_mode": {
    "name": "ipython",
    "version": 3
   },
   "file_extension": ".py",
   "mimetype": "text/x-python",
   "name": "python",
   "nbconvert_exporter": "python",
   "pygments_lexer": "ipython3",
   "version": "3.9.4"
  }
 },
 "nbformat": 4,
 "nbformat_minor": 5
}
