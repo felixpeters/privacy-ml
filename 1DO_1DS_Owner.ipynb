{
 "cells": [
  {
   "cell_type": "markdown",
   "id": "5e5bfd78-d616-4b18-bbf9-e6b772aa1103",
   "metadata": {},
   "source": [
    "### Imports"
   ]
  },
  {
   "cell_type": "code",
   "execution_count": null,
   "id": "bd462f6f-4e22-481e-88fe-29e5630db455",
   "metadata": {},
   "outputs": [],
   "source": [
    "import syft as sy\n",
    "from tools import datasets\n",
    "import time\n",
    "\n",
    "sy.load('opacus')"
   ]
  },
  {
   "cell_type": "markdown",
   "id": "060813b1-4d05-4a64-a315-21d53a069f9d",
   "metadata": {},
   "source": [
    "### Launch duet session (DO side)"
   ]
  },
  {
   "cell_type": "code",
   "execution_count": null,
   "id": "1a732dfe-cf9c-428f-8a10-32c861fcdfd6",
   "metadata": {},
   "outputs": [],
   "source": [
    "duet = sy.launch_duet(loopback=True)"
   ]
  },
  {
   "cell_type": "markdown",
   "id": "6f4dce08-f288-4d72-979e-00d22465b79a",
   "metadata": {},
   "source": [
    "### Load data and send to duet session"
   ]
  },
  {
   "cell_type": "code",
   "execution_count": null,
   "id": "8538d608-3b0b-467b-92c5-4316e2788e01",
   "metadata": {},
   "outputs": [],
   "source": [
    "start_time = time.time()\n",
    "\n",
    "train_ds, test_ds = datasets.Loader.load_MedNIST(sample_size=0.035, test_size=0.1)\n",
    "train_data, train_labels = train_ds.as_tensor()\n",
    "test_data, test_labels = test_ds.as_tensor()\n",
    "\n",
    "duet_start_time = time.time()\n",
    "\n",
    "train_data.send(duet, pointable=True)\n",
    "train_labels.send(duet, pointable=True)\n",
    "\n",
    "test_data.send(duet, pointable=True)\n",
    "test_labels.send(duet, pointable=True)\n",
    "\n",
    "end_time = time.time()\n",
    "\n",
    "print(f'Load + Send: {float(end_time - start_time)} seconds')\n",
    "print(f'Send: {float(end_time - duet_start_time)} seconds')\n",
    "print(len(train_data))\n",
    "print(len(test_data))"
   ]
  },
  {
   "cell_type": "markdown",
   "id": "6295ffef-1fda-4867-94b6-3d7a333fac47",
   "metadata": {},
   "source": [
    "### Allow all requests"
   ]
  },
  {
   "cell_type": "code",
   "execution_count": null,
   "id": "3db082da-b496-40b1-a099-a27ee838c472",
   "metadata": {},
   "outputs": [],
   "source": [
    "# In practices a list of allowable requests would be defined here\n",
    "duet.requests.add_handler(action=\"accept\")"
   ]
  }
 ],
 "metadata": {
  "kernelspec": {
   "display_name": "Python 3",
   "language": "python",
   "name": "python3"
  },
  "language_info": {
   "codemirror_mode": {
    "name": "ipython",
    "version": 3
   },
   "file_extension": ".py",
   "mimetype": "text/x-python",
   "name": "python",
   "nbconvert_exporter": "python",
   "pygments_lexer": "ipython3",
   "version": "3.9.4"
  }
 },
 "nbformat": 4,
 "nbformat_minor": 5
}
