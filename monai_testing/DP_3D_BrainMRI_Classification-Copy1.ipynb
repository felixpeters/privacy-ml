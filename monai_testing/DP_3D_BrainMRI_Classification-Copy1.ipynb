{
 "cells": [
  {
   "cell_type": "code",
   "execution_count": 6,
   "id": "0f3c3e2d-be58-4d75-8431-36555121d831",
   "metadata": {},
   "outputs": [],
   "source": [
    "import os\n",
    "\n",
    "import pandas as pd\n",
    "import numpy as np\n",
    "\n",
    "import torch\n",
    "from torch.utils.data import DataLoader\n",
    "import torchvision\n",
    "\n",
    "from opacus import PrivacyEngine\n",
    "\n",
    "import monai\n",
    "from monai.data import ImageDataset\n",
    "from monai.transforms import AddChannel, Compose, RandRotate90, Resize, ScaleIntensity, ToTensor"
   ]
  },
  {
   "cell_type": "markdown",
   "id": "173ee9ed-00fb-4dde-a491-99bbc884560a",
   "metadata": {},
   "source": [
    "# ---- Data handeling ----"
   ]
  },
  {
   "cell_type": "code",
   "execution_count": 2,
   "id": "5d4c9995-9674-4067-a109-ef92de0f400e",
   "metadata": {},
   "outputs": [],
   "source": [
    "# Set to true if Data was not downloaded yet. Set to false afterwards!\n",
    "# 4.5 GB / ~ 600 Pictures (3D) / 1 excel file for labels\n",
    "DOWNLOAD = False\n",
    "\n",
    "if DOWNLOAD:\n",
    "    data_url = 'http://biomedic.doc.ic.ac.uk/brain-development/downloads/IXI/IXI-T1.tar'\n",
    "    compressed_file = os.sep.join(['Data', 'IXI-T1.tar'])\n",
    "    data_dir = os.sep.join(['Data', 'IXI-T1'])\n",
    "    \n",
    "    # Data download\n",
    "    monai.apps.download_and_extract(data_url, compressed_file, './Data/IXI-T1')\n",
    "\n",
    "    # Labels document download\n",
    "    labels_url = 'http://biomedic.doc.ic.ac.uk/brain-development/downloads/IXI/IXI.xls'\n",
    "    monai.apps.download_url(labels_url, './Data/IXI.xls')"
   ]
  },
  {
   "cell_type": "code",
   "execution_count": 3,
   "id": "45af03d5-4add-45c7-9c44-b9deb7831bc6",
   "metadata": {
    "tags": []
   },
   "outputs": [],
   "source": [
    "images = [impath for impath in os.listdir('./Data/IXI-T1')]\n",
    "\n",
    "demographic_info = pd.read_excel('./Data/IXI.xls')\n",
    "\n",
    "# Getting lables TODO: Implement multiple possible labels, not just sex.\n",
    "def make_labeled_data(df, images):\n",
    "    data = []\n",
    "    labels = []\n",
    "    for i in images:\n",
    "        ixi_id = int(i[3:6])\n",
    "        row = df.loc[df['IXI_ID'] == ixi_id]\n",
    "        if not row.empty:\n",
    "            data.append(os.sep.join(['Data', 'IXI-T1', i]))\n",
    "            labels.append(row.iat[0, 1] - 1) # Sex labels are 1/2 but need to be 0/1\n",
    "         \n",
    "    return data, labels\n",
    "\n",
    "\n",
    "data, labels = make_labeled_data(demographic_info, images)\n",
    "\n",
    "# Train - Test split\n",
    "TEST_SIZE = 0.2 # How much percent of the data should be Test Data\n",
    "SAMPLE_SIZE = 0.05 # How much of the whole data should be used (1.0 = 566 pictures, 0.1 = 56 pictures)\n",
    "BATCH_SIZE = 2\n",
    "\n",
    "def train_test_split(data, labels):\n",
    "    size = int(len(data) * SAMPLE_SIZE)\n",
    "    split = int(size * TEST_SIZE)\n",
    "    \n",
    "    test_data = data[:split]\n",
    "    train_data = data[split:size]\n",
    "    \n",
    "    test_labels = labels[:split]\n",
    "    train_labels = labels[split:size]\n",
    "    \n",
    "    return train_data, train_labels, test_data, test_labels\n",
    "    \n",
    "    \n",
    "train_data, train_labels, test_data, test_labels = train_test_split(data, labels)"
   ]
  },
  {
   "cell_type": "code",
   "execution_count": 4,
   "id": "91127bec-192c-4356-ab1d-59dd24e9263a",
   "metadata": {},
   "outputs": [],
   "source": [
    "# Define transforms\n",
    "train_transforms = Compose([ScaleIntensity(), AddChannel(), Resize((96, 96, 96)), RandRotate90(), ToTensor()])\n",
    "val_transforms = Compose([ScaleIntensity(), AddChannel(), Resize((96, 96, 96)), ToTensor()])\n",
    "\n",
    "# Create a training data loader\n",
    "train_ds = ImageDataset(image_files=train_data, labels=train_labels, transform=train_transforms)\n",
    "train_loader = DataLoader(train_ds, batch_size=BATCH_SIZE, shuffle=True, num_workers=1, pin_memory=torch.cuda.is_available())\n",
    "\n",
    "# Create a validation data loader\n",
    "val_ds = ImageDataset(image_files=test_data, labels=test_labels, transform=val_transforms)\n",
    "val_loader = DataLoader(val_ds, batch_size=BATCH_SIZE, num_workers=1, pin_memory=torch.cuda.is_available())"
   ]
  },
  {
   "cell_type": "markdown",
   "id": "f0be8a1a-3ed9-4af5-b131-8e23a6c1a4ef",
   "metadata": {},
   "source": [
    " # ---- Model Specification ----\n",
    " \n",
    " "
   ]
  },
  {
   "cell_type": "code",
   "execution_count": 5,
   "id": "e6a88f01-a963-41b6-af1c-25fe4ebd01cc",
   "metadata": {},
   "outputs": [
    {
     "name": "stderr",
     "output_type": "stream",
     "text": [
      "The sample rate will be defined from ``batch_size`` and ``sample_size``.The returned privacy budget will be incorrect.\n",
      "Secure RNG turned off. This is perfectly fine for experimentation as it allows for much faster training performance, but remember to turn it on and retrain one last time before production with ``secure_rng`` turned on.\n"
     ]
    },
    {
     "ename": "IncompatibleModuleException",
     "evalue": "Model contains incompatible modules.\nSome modules are not valid.: ['Main.features.norm0', 'Main.features.denseblock1.denselayer1.layers.norm1', 'Main.features.denseblock1.denselayer1.layers.norm2', 'Main.features.denseblock1.denselayer2.layers.norm1', 'Main.features.denseblock1.denselayer2.layers.norm2', 'Main.features.denseblock1.denselayer3.layers.norm1', 'Main.features.denseblock1.denselayer3.layers.norm2', 'Main.features.denseblock1.denselayer4.layers.norm1', 'Main.features.denseblock1.denselayer4.layers.norm2', 'Main.features.denseblock1.denselayer5.layers.norm1', 'Main.features.denseblock1.denselayer5.layers.norm2', 'Main.features.denseblock1.denselayer6.layers.norm1', 'Main.features.denseblock1.denselayer6.layers.norm2', 'Main.features.transition1.norm', 'Main.features.denseblock2.denselayer1.layers.norm1', 'Main.features.denseblock2.denselayer1.layers.norm2', 'Main.features.denseblock2.denselayer2.layers.norm1', 'Main.features.denseblock2.denselayer2.layers.norm2', 'Main.features.denseblock2.denselayer3.layers.norm1', 'Main.features.denseblock2.denselayer3.layers.norm2', 'Main.features.denseblock2.denselayer4.layers.norm1', 'Main.features.denseblock2.denselayer4.layers.norm2', 'Main.features.denseblock2.denselayer5.layers.norm1', 'Main.features.denseblock2.denselayer5.layers.norm2', 'Main.features.denseblock2.denselayer6.layers.norm1', 'Main.features.denseblock2.denselayer6.layers.norm2', 'Main.features.denseblock2.denselayer7.layers.norm1', 'Main.features.denseblock2.denselayer7.layers.norm2', 'Main.features.denseblock2.denselayer8.layers.norm1', 'Main.features.denseblock2.denselayer8.layers.norm2', 'Main.features.denseblock2.denselayer9.layers.norm1', 'Main.features.denseblock2.denselayer9.layers.norm2', 'Main.features.denseblock2.denselayer10.layers.norm1', 'Main.features.denseblock2.denselayer10.layers.norm2', 'Main.features.denseblock2.denselayer11.layers.norm1', 'Main.features.denseblock2.denselayer11.layers.norm2', 'Main.features.denseblock2.denselayer12.layers.norm1', 'Main.features.denseblock2.denselayer12.layers.norm2', 'Main.features.transition2.norm', 'Main.features.denseblock3.denselayer1.layers.norm1', 'Main.features.denseblock3.denselayer1.layers.norm2', 'Main.features.denseblock3.denselayer2.layers.norm1', 'Main.features.denseblock3.denselayer2.layers.norm2', 'Main.features.denseblock3.denselayer3.layers.norm1', 'Main.features.denseblock3.denselayer3.layers.norm2', 'Main.features.denseblock3.denselayer4.layers.norm1', 'Main.features.denseblock3.denselayer4.layers.norm2', 'Main.features.denseblock3.denselayer5.layers.norm1', 'Main.features.denseblock3.denselayer5.layers.norm2', 'Main.features.denseblock3.denselayer6.layers.norm1', 'Main.features.denseblock3.denselayer6.layers.norm2', 'Main.features.denseblock3.denselayer7.layers.norm1', 'Main.features.denseblock3.denselayer7.layers.norm2', 'Main.features.denseblock3.denselayer8.layers.norm1', 'Main.features.denseblock3.denselayer8.layers.norm2', 'Main.features.denseblock3.denselayer9.layers.norm1', 'Main.features.denseblock3.denselayer9.layers.norm2', 'Main.features.denseblock3.denselayer10.layers.norm1', 'Main.features.denseblock3.denselayer10.layers.norm2', 'Main.features.denseblock3.denselayer11.layers.norm1', 'Main.features.denseblock3.denselayer11.layers.norm2', 'Main.features.denseblock3.denselayer12.layers.norm1', 'Main.features.denseblock3.denselayer12.layers.norm2', 'Main.features.denseblock3.denselayer13.layers.norm1', 'Main.features.denseblock3.denselayer13.layers.norm2', 'Main.features.denseblock3.denselayer14.layers.norm1', 'Main.features.denseblock3.denselayer14.layers.norm2', 'Main.features.denseblock3.denselayer15.layers.norm1', 'Main.features.denseblock3.denselayer15.layers.norm2', 'Main.features.denseblock3.denselayer16.layers.norm1', 'Main.features.denseblock3.denselayer16.layers.norm2', 'Main.features.denseblock3.denselayer17.layers.norm1', 'Main.features.denseblock3.denselayer17.layers.norm2', 'Main.features.denseblock3.denselayer18.layers.norm1', 'Main.features.denseblock3.denselayer18.layers.norm2', 'Main.features.denseblock3.denselayer19.layers.norm1', 'Main.features.denseblock3.denselayer19.layers.norm2', 'Main.features.denseblock3.denselayer20.layers.norm1', 'Main.features.denseblock3.denselayer20.layers.norm2', 'Main.features.denseblock3.denselayer21.layers.norm1', 'Main.features.denseblock3.denselayer21.layers.norm2', 'Main.features.denseblock3.denselayer22.layers.norm1', 'Main.features.denseblock3.denselayer22.layers.norm2', 'Main.features.denseblock3.denselayer23.layers.norm1', 'Main.features.denseblock3.denselayer23.layers.norm2', 'Main.features.denseblock3.denselayer24.layers.norm1', 'Main.features.denseblock3.denselayer24.layers.norm2', 'Main.features.transition3.norm', 'Main.features.denseblock4.denselayer1.layers.norm1', 'Main.features.denseblock4.denselayer1.layers.norm2', 'Main.features.denseblock4.denselayer2.layers.norm1', 'Main.features.denseblock4.denselayer2.layers.norm2', 'Main.features.denseblock4.denselayer3.layers.norm1', 'Main.features.denseblock4.denselayer3.layers.norm2', 'Main.features.denseblock4.denselayer4.layers.norm1', 'Main.features.denseblock4.denselayer4.layers.norm2', 'Main.features.denseblock4.denselayer5.layers.norm1', 'Main.features.denseblock4.denselayer5.layers.norm2', 'Main.features.denseblock4.denselayer6.layers.norm1', 'Main.features.denseblock4.denselayer6.layers.norm2', 'Main.features.denseblock4.denselayer7.layers.norm1', 'Main.features.denseblock4.denselayer7.layers.norm2', 'Main.features.denseblock4.denselayer8.layers.norm1', 'Main.features.denseblock4.denselayer8.layers.norm2', 'Main.features.denseblock4.denselayer9.layers.norm1', 'Main.features.denseblock4.denselayer9.layers.norm2', 'Main.features.denseblock4.denselayer10.layers.norm1', 'Main.features.denseblock4.denselayer10.layers.norm2', 'Main.features.denseblock4.denselayer11.layers.norm1', 'Main.features.denseblock4.denselayer11.layers.norm2', 'Main.features.denseblock4.denselayer12.layers.norm1', 'Main.features.denseblock4.denselayer12.layers.norm2', 'Main.features.denseblock4.denselayer13.layers.norm1', 'Main.features.denseblock4.denselayer13.layers.norm2', 'Main.features.denseblock4.denselayer14.layers.norm1', 'Main.features.denseblock4.denselayer14.layers.norm2', 'Main.features.denseblock4.denselayer15.layers.norm1', 'Main.features.denseblock4.denselayer15.layers.norm2', 'Main.features.denseblock4.denselayer16.layers.norm1', 'Main.features.denseblock4.denselayer16.layers.norm2', 'Main.features.norm5']",
     "output_type": "error",
     "traceback": [
      "\u001b[1;31m---------------------------------------------------------------------------\u001b[0m",
      "\u001b[1;31mIncompatibleModuleException\u001b[0m               Traceback (most recent call last)",
      "\u001b[1;32m<ipython-input-5-75d8ad1de4c2>\u001b[0m in \u001b[0;36m<module>\u001b[1;34m\u001b[0m\n\u001b[0;32m     14\u001b[0m                               \u001b[0mnoise_multiplier\u001b[0m\u001b[1;33m=\u001b[0m\u001b[1;36m1.3\u001b[0m\u001b[1;33m,\u001b[0m\u001b[1;33m\u001b[0m\u001b[1;33m\u001b[0m\u001b[0m\n\u001b[0;32m     15\u001b[0m                               max_grad_norm=1.0)\n\u001b[1;32m---> 16\u001b[1;33m \u001b[0mprivacy_engine\u001b[0m\u001b[1;33m.\u001b[0m\u001b[0mattach\u001b[0m\u001b[1;33m(\u001b[0m\u001b[0moptimizer\u001b[0m\u001b[1;33m)\u001b[0m\u001b[1;33m\u001b[0m\u001b[1;33m\u001b[0m\u001b[0m\n\u001b[0m",
      "\u001b[1;32m~\\miniconda3\\envs\\seminar\\lib\\site-packages\\opacus\\privacy_engine.py\u001b[0m in \u001b[0;36mattach\u001b[1;34m(self, optimizer)\u001b[0m\n\u001b[0;32m    239\u001b[0m         \"\"\"\n\u001b[0;32m    240\u001b[0m \u001b[1;33m\u001b[0m\u001b[0m\n\u001b[1;32m--> 241\u001b[1;33m         \u001b[0mself\u001b[0m\u001b[1;33m.\u001b[0m\u001b[0mvalidator\u001b[0m\u001b[1;33m.\u001b[0m\u001b[0mvalidate\u001b[0m\u001b[1;33m(\u001b[0m\u001b[0mself\u001b[0m\u001b[1;33m.\u001b[0m\u001b[0mmodule\u001b[0m\u001b[1;33m)\u001b[0m\u001b[1;33m\u001b[0m\u001b[1;33m\u001b[0m\u001b[0m\n\u001b[0m\u001b[0;32m    242\u001b[0m         norm_clipper = (\n\u001b[0;32m    243\u001b[0m             \u001b[0mclipping\u001b[0m\u001b[1;33m.\u001b[0m\u001b[0mConstantFlatClipper\u001b[0m\u001b[1;33m(\u001b[0m\u001b[0mself\u001b[0m\u001b[1;33m.\u001b[0m\u001b[0mmax_grad_norm\u001b[0m\u001b[1;33m)\u001b[0m\u001b[1;33m\u001b[0m\u001b[1;33m\u001b[0m\u001b[0m\n",
      "\u001b[1;32m~\\miniconda3\\envs\\seminar\\lib\\site-packages\\opacus\\dp_model_inspector.py\u001b[0m in \u001b[0;36mvalidate\u001b[1;34m(self, model)\u001b[0m\n\u001b[0;32m    124\u001b[0m                 \u001b[1;32mif\u001b[0m \u001b[0minspector\u001b[0m\u001b[1;33m.\u001b[0m\u001b[0mviolators\u001b[0m\u001b[1;33m:\u001b[0m\u001b[1;33m\u001b[0m\u001b[1;33m\u001b[0m\u001b[0m\n\u001b[0;32m    125\u001b[0m                     \u001b[0mmessage\u001b[0m \u001b[1;33m+=\u001b[0m \u001b[1;34mf\"\\n{inspector.message}: {inspector.violators}\"\u001b[0m\u001b[1;33m\u001b[0m\u001b[1;33m\u001b[0m\u001b[0m\n\u001b[1;32m--> 126\u001b[1;33m             \u001b[1;32mraise\u001b[0m \u001b[0mIncompatibleModuleException\u001b[0m\u001b[1;33m(\u001b[0m\u001b[0mmessage\u001b[0m\u001b[1;33m)\u001b[0m\u001b[1;33m\u001b[0m\u001b[1;33m\u001b[0m\u001b[0m\n\u001b[0m\u001b[0;32m    127\u001b[0m         \u001b[1;32mreturn\u001b[0m \u001b[0mvalid\u001b[0m\u001b[1;33m\u001b[0m\u001b[1;33m\u001b[0m\u001b[0m\n\u001b[0;32m    128\u001b[0m \u001b[1;33m\u001b[0m\u001b[0m\n",
      "\u001b[1;31mIncompatibleModuleException\u001b[0m: Model contains incompatible modules.\nSome modules are not valid.: ['Main.features.norm0', 'Main.features.denseblock1.denselayer1.layers.norm1', 'Main.features.denseblock1.denselayer1.layers.norm2', 'Main.features.denseblock1.denselayer2.layers.norm1', 'Main.features.denseblock1.denselayer2.layers.norm2', 'Main.features.denseblock1.denselayer3.layers.norm1', 'Main.features.denseblock1.denselayer3.layers.norm2', 'Main.features.denseblock1.denselayer4.layers.norm1', 'Main.features.denseblock1.denselayer4.layers.norm2', 'Main.features.denseblock1.denselayer5.layers.norm1', 'Main.features.denseblock1.denselayer5.layers.norm2', 'Main.features.denseblock1.denselayer6.layers.norm1', 'Main.features.denseblock1.denselayer6.layers.norm2', 'Main.features.transition1.norm', 'Main.features.denseblock2.denselayer1.layers.norm1', 'Main.features.denseblock2.denselayer1.layers.norm2', 'Main.features.denseblock2.denselayer2.layers.norm1', 'Main.features.denseblock2.denselayer2.layers.norm2', 'Main.features.denseblock2.denselayer3.layers.norm1', 'Main.features.denseblock2.denselayer3.layers.norm2', 'Main.features.denseblock2.denselayer4.layers.norm1', 'Main.features.denseblock2.denselayer4.layers.norm2', 'Main.features.denseblock2.denselayer5.layers.norm1', 'Main.features.denseblock2.denselayer5.layers.norm2', 'Main.features.denseblock2.denselayer6.layers.norm1', 'Main.features.denseblock2.denselayer6.layers.norm2', 'Main.features.denseblock2.denselayer7.layers.norm1', 'Main.features.denseblock2.denselayer7.layers.norm2', 'Main.features.denseblock2.denselayer8.layers.norm1', 'Main.features.denseblock2.denselayer8.layers.norm2', 'Main.features.denseblock2.denselayer9.layers.norm1', 'Main.features.denseblock2.denselayer9.layers.norm2', 'Main.features.denseblock2.denselayer10.layers.norm1', 'Main.features.denseblock2.denselayer10.layers.norm2', 'Main.features.denseblock2.denselayer11.layers.norm1', 'Main.features.denseblock2.denselayer11.layers.norm2', 'Main.features.denseblock2.denselayer12.layers.norm1', 'Main.features.denseblock2.denselayer12.layers.norm2', 'Main.features.transition2.norm', 'Main.features.denseblock3.denselayer1.layers.norm1', 'Main.features.denseblock3.denselayer1.layers.norm2', 'Main.features.denseblock3.denselayer2.layers.norm1', 'Main.features.denseblock3.denselayer2.layers.norm2', 'Main.features.denseblock3.denselayer3.layers.norm1', 'Main.features.denseblock3.denselayer3.layers.norm2', 'Main.features.denseblock3.denselayer4.layers.norm1', 'Main.features.denseblock3.denselayer4.layers.norm2', 'Main.features.denseblock3.denselayer5.layers.norm1', 'Main.features.denseblock3.denselayer5.layers.norm2', 'Main.features.denseblock3.denselayer6.layers.norm1', 'Main.features.denseblock3.denselayer6.layers.norm2', 'Main.features.denseblock3.denselayer7.layers.norm1', 'Main.features.denseblock3.denselayer7.layers.norm2', 'Main.features.denseblock3.denselayer8.layers.norm1', 'Main.features.denseblock3.denselayer8.layers.norm2', 'Main.features.denseblock3.denselayer9.layers.norm1', 'Main.features.denseblock3.denselayer9.layers.norm2', 'Main.features.denseblock3.denselayer10.layers.norm1', 'Main.features.denseblock3.denselayer10.layers.norm2', 'Main.features.denseblock3.denselayer11.layers.norm1', 'Main.features.denseblock3.denselayer11.layers.norm2', 'Main.features.denseblock3.denselayer12.layers.norm1', 'Main.features.denseblock3.denselayer12.layers.norm2', 'Main.features.denseblock3.denselayer13.layers.norm1', 'Main.features.denseblock3.denselayer13.layers.norm2', 'Main.features.denseblock3.denselayer14.layers.norm1', 'Main.features.denseblock3.denselayer14.layers.norm2', 'Main.features.denseblock3.denselayer15.layers.norm1', 'Main.features.denseblock3.denselayer15.layers.norm2', 'Main.features.denseblock3.denselayer16.layers.norm1', 'Main.features.denseblock3.denselayer16.layers.norm2', 'Main.features.denseblock3.denselayer17.layers.norm1', 'Main.features.denseblock3.denselayer17.layers.norm2', 'Main.features.denseblock3.denselayer18.layers.norm1', 'Main.features.denseblock3.denselayer18.layers.norm2', 'Main.features.denseblock3.denselayer19.layers.norm1', 'Main.features.denseblock3.denselayer19.layers.norm2', 'Main.features.denseblock3.denselayer20.layers.norm1', 'Main.features.denseblock3.denselayer20.layers.norm2', 'Main.features.denseblock3.denselayer21.layers.norm1', 'Main.features.denseblock3.denselayer21.layers.norm2', 'Main.features.denseblock3.denselayer22.layers.norm1', 'Main.features.denseblock3.denselayer22.layers.norm2', 'Main.features.denseblock3.denselayer23.layers.norm1', 'Main.features.denseblock3.denselayer23.layers.norm2', 'Main.features.denseblock3.denselayer24.layers.norm1', 'Main.features.denseblock3.denselayer24.layers.norm2', 'Main.features.transition3.norm', 'Main.features.denseblock4.denselayer1.layers.norm1', 'Main.features.denseblock4.denselayer1.layers.norm2', 'Main.features.denseblock4.denselayer2.layers.norm1', 'Main.features.denseblock4.denselayer2.layers.norm2', 'Main.features.denseblock4.denselayer3.layers.norm1', 'Main.features.denseblock4.denselayer3.layers.norm2', 'Main.features.denseblock4.denselayer4.layers.norm1', 'Main.features.denseblock4.denselayer4.layers.norm2', 'Main.features.denseblock4.denselayer5.layers.norm1', 'Main.features.denseblock4.denselayer5.layers.norm2', 'Main.features.denseblock4.denselayer6.layers.norm1', 'Main.features.denseblock4.denselayer6.layers.norm2', 'Main.features.denseblock4.denselayer7.layers.norm1', 'Main.features.denseblock4.denselayer7.layers.norm2', 'Main.features.denseblock4.denselayer8.layers.norm1', 'Main.features.denseblock4.denselayer8.layers.norm2', 'Main.features.denseblock4.denselayer9.layers.norm1', 'Main.features.denseblock4.denselayer9.layers.norm2', 'Main.features.denseblock4.denselayer10.layers.norm1', 'Main.features.denseblock4.denselayer10.layers.norm2', 'Main.features.denseblock4.denselayer11.layers.norm1', 'Main.features.denseblock4.denselayer11.layers.norm2', 'Main.features.denseblock4.denselayer12.layers.norm1', 'Main.features.denseblock4.denselayer12.layers.norm2', 'Main.features.denseblock4.denselayer13.layers.norm1', 'Main.features.denseblock4.denselayer13.layers.norm2', 'Main.features.denseblock4.denselayer14.layers.norm1', 'Main.features.denseblock4.denselayer14.layers.norm2', 'Main.features.denseblock4.denselayer15.layers.norm1', 'Main.features.denseblock4.denselayer15.layers.norm2', 'Main.features.denseblock4.denselayer16.layers.norm1', 'Main.features.denseblock4.denselayer16.layers.norm2', 'Main.features.norm5']"
     ]
    }
   ],
   "source": [
    "# Create DenseNet, CrossEntropyLoss and Adam optimizer\n",
    "device = torch.device(\"cuda\" if torch.cuda.is_available() else \"cpu\")\n",
    "model = torchvision.models.densenet(spatial_dims=3, in_channels=1, out_channels=2).to(device)\n",
    "# TODO create own model !!!!\n",
    "\n",
    "loss_function = torch.nn.CrossEntropyLoss()\n",
    "optimizer = torch.optim.Adam(model.parameters(), 1e-5)\n",
    "\n",
    "# Adding differential Privacy\n",
    "privacy_engine = PrivacyEngine(model, \n",
    "                              batch_size=BATCH_SIZE,\n",
    "                              sample_size=len(train_data),\n",
    "                              alphas=range(2, 16),\n",
    "                              noise_multiplier=1.3,\n",
    "                              max_grad_norm=1.0)\n",
    "privacy_engine.attach(optimizer)"
   ]
  },
  {
   "cell_type": "markdown",
   "id": "36e785d2-7b24-4997-8c4a-306d84ad6417",
   "metadata": {},
   "source": [
    "# ---- Model Training ----"
   ]
  },
  {
   "cell_type": "code",
   "execution_count": null,
   "id": "06b7ef0c-edc1-49e9-a3c6-73aa585f9267",
   "metadata": {},
   "outputs": [],
   "source": [
    "EPOCHS  = 5\n",
    "DELTA = 1e-5\n",
    "\n",
    "val_interval = 2\n",
    "best_metric = -1\n",
    "best_metric_epoch = -1\n",
    "metric_values = list()\n",
    "\n",
    "# Iterate through Epochs\n",
    "for epoch in range(EPOCHS):\n",
    "    print(\"-\" * 10)\n",
    "    print(f\"epoch {epoch + 1}/{5}\")\n",
    "    model.train()\n",
    "    epoch_loss = 0\n",
    "    step = 0\n",
    "    \n",
    "    # Iterate over the batches\n",
    "    for batch_data in train_loader:\n",
    "        step += 1\n",
    "        inputs, labels = batch_data[0].to(device), batch_data[1].to(device)\n",
    "        optimizer.zero_grad()\n",
    "        outputs = model(inputs)\n",
    "        loss = loss_function(outputs, labels)\n",
    "        loss.backward()\n",
    "        optimizer.step()\n",
    "        epoch_loss += loss.item()\n",
    "        epoch_len = len(train_ds) // train_loader.batch_size\n",
    "        print(f\"{step}/{epoch_len}, train_loss: {loss.item():.4f}\")\n",
    "        \n",
    "    epoch_loss /= step\n",
    "    epsilon, best_alpha = optimizer.privacy_engine.get_privacy_spent(DELTA) \n",
    "    print(f\"epoch {epoch + 1} average loss: {epoch_loss:.4f}\"\n",
    "          f\"(ε = {epsilon:.2f}, δ = {delta}) for α = {best_alpha}\")\n",
    "\n",
    "    # Evaluate the current model in regular interval\n",
    "    if (epoch + 1) % val_interval == 0:\n",
    "        model.eval()\n",
    "        with torch.no_grad():\n",
    "            num_correct = 0.0\n",
    "            metric_count = 0\n",
    "            for val_data in val_loader:\n",
    "                val_images, val_labels = val_data[0].to(device), val_data[1].to(device)\n",
    "                val_outputs = model(val_images)\n",
    "                value = torch.eq(val_outputs.argmax(dim=1), val_labels)\n",
    "                metric_count += len(value)\n",
    "                num_correct += value.sum().item()\n",
    "            metric = num_correct / metric_count\n",
    "            metric_values.append(metric)\n",
    "            if metric > best_metric:\n",
    "                best_metric = metric\n",
    "                best_metric_epoch = epoch + 1\n",
    "                torch.save(model.state_dict(), \"./Data/best_metric_model_classification3d_array.pth\")\n",
    "                print(\"saved new best metric model\")\n",
    "            print(\n",
    "                \"current epoch: {} current accuracy: {:.4f} best accuracy: {:.4f} at epoch {}\".format(\n",
    "                    epoch + 1, metric, best_metric, best_metric_epoch\n",
    "                )\n",
    "            )\n",
    "print(f\"train completed, best_metric: {best_metric:.4f} at epoch: {best_metric_epoch}\")"
   ]
  }
 ],
 "metadata": {
  "kernelspec": {
   "display_name": "Python 3",
   "language": "python",
   "name": "python3"
  },
  "language_info": {
   "codemirror_mode": {
    "name": "ipython",
    "version": 3
   },
   "file_extension": ".py",
   "mimetype": "text/x-python",
   "name": "python",
   "nbconvert_exporter": "python",
   "pygments_lexer": "ipython3",
   "version": "3.9.4"
  }
 },
 "nbformat": 4,
 "nbformat_minor": 5
}
