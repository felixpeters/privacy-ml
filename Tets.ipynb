{
 "cells": [
  {
   "cell_type": "code",
   "execution_count": 1,
   "id": "ebe80b16-8110-4553-a83e-f2c0859c270e",
   "metadata": {},
   "outputs": [],
   "source": [
    "import numpy as np\n",
    "from math import ceil"
   ]
  },
  {
   "cell_type": "code",
   "execution_count": 2,
   "id": "3fac688d-3b1a-4367-aa87-4db96715b675",
   "metadata": {},
   "outputs": [],
   "source": [
    "def _split(data, labels, test_size, val_size):\n",
    "    \"\"\"Helper function for train-test-validation split.\"\"\"\n",
    "    length = len(data)\n",
    "        \n",
    "    train_data = data[:-int(length*(test_size + val_size))]\n",
    "    train_labels = labels[:-int(length*(test_size + val_size))]\n",
    "\n",
    "    test_data = data[-int(length*(test_size + val_size)):ceil(length - length*(val_size))]\n",
    "    test_labels = labels[-int(length*(test_size + val_size)):ceil(length - length*(val_size))]\n",
    "\n",
    "    val_data = data[-int(length*val_size):]\n",
    "    val_labels = labels[-int(length*val_size):]\n",
    "\n",
    "    return train_data, train_labels, test_data, test_labels, val_data, val_labels"
   ]
  },
  {
   "cell_type": "code",
   "execution_count": 3,
   "id": "649d3d4e-6143-42a6-9cb4-9f9d95bd1dba",
   "metadata": {},
   "outputs": [],
   "source": [
    "data = np.arange(10)\n",
    "labels = np.arange(10)\n",
    "\n",
    "train_data, train_labels, test_data, test_labels, val_data, val_labels = _split(data, labels, 0.2, 0.2)"
   ]
  },
  {
   "cell_type": "code",
   "execution_count": null,
   "id": "a5dd12a4-3fec-4427-ab2d-e2d2339ae5be",
   "metadata": {},
   "outputs": [],
   "source": [
    "print(train_data)"
   ]
  }
 ],
 "metadata": {
  "kernelspec": {
   "display_name": "Python 3",
   "language": "python",
   "name": "python3"
  },
  "language_info": {
   "codemirror_mode": {
    "name": "ipython",
    "version": 3
   },
   "file_extension": ".py",
   "mimetype": "text/x-python",
   "name": "python",
   "nbconvert_exporter": "python",
   "pygments_lexer": "ipython3",
   "version": "3.9.4"
  }
 },
 "nbformat": 4,
 "nbformat_minor": 5
}
