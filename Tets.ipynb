{
 "cells": [
  {
   "cell_type": "code",
   "execution_count": 2,
   "id": "ebe80b16-8110-4553-a83e-f2c0859c270e",
   "metadata": {},
   "outputs": [],
   "source": [
    "import syft as sy\n",
    "import torch"
   ]
  },
  {
   "cell_type": "code",
   "execution_count": null,
   "id": "3fac688d-3b1a-4367-aa87-4db96715b675",
   "metadata": {},
   "outputs": [],
   "source": [
    "duet = sy.launch_duet(loopback=True)"
   ]
  },
  {
   "cell_type": "code",
   "execution_count": null,
   "id": "649d3d4e-6143-42a6-9cb4-9f9d95bd1dba",
   "metadata": {},
   "outputs": [],
   "source": [
    "data = torch.rand([9_000_000])\n",
    "data.send(duet, pointable=True)"
   ]
  }
 ],
 "metadata": {
  "kernelspec": {
   "display_name": "Python 3",
   "language": "python",
   "name": "python3"
  },
  "language_info": {
   "codemirror_mode": {
    "name": "ipython",
    "version": 3
   },
   "file_extension": ".py",
   "mimetype": "text/x-python",
   "name": "python",
   "nbconvert_exporter": "python",
   "pygments_lexer": "ipython3",
   "version": "3.9.4"
  }
 },
 "nbformat": 4,
 "nbformat_minor": 5
}
