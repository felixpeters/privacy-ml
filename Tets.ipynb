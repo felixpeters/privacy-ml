{
 "cells": [
  {
   "cell_type": "code",
   "execution_count": 1,
   "id": "ec0e4814-1cc2-4094-9fab-59dfffc99210",
   "metadata": {},
   "outputs": [],
   "source": [
    "a = 1\n",
    "\n",
    "print(a)\n",
    "print(c)"
   ]
  }
 ],
 "metadata": {
  "kernelspec": {
   "display_name": "Python 3",
   "language": "python",
   "name": "python3"
  },
  "language_info": {
   "codemirror_mode": {
    "name": "ipython",
    "version": 3
   },
   "file_extension": ".py",
   "mimetype": "text/x-python",
   "name": "python",
   "nbconvert_exporter": "python",
   "pygments_lexer": "ipython3",
   "version": "3.9.4"
  }
 },
 "nbformat": 4,
 "nbformat_minor": 5
}
