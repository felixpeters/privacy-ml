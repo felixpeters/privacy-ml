{
 "cells": [
  {
   "cell_type": "code",
   "execution_count": 1,
   "id": "25369a6a-c904-44ff-ae44-9805d5e8d625",
   "metadata": {},
   "outputs": [],
   "source": [
    "import os\n",
    "import numpy as np\n",
    "import pandas\n",
    "import monai\n",
    "import PIL\n",
    "import torch\n",
    "import pandas as pd\n",
    "from monai.transforms import AddChannel, Compose, RandRotate90, Resize, ScaleIntensity, ToTensor, LoadImage\n",
    "import datasets\n"
   ]
  },
  {
   "cell_type": "code",
   "execution_count": 2,
   "id": "277dfea0-edc8-43b6-857f-53cd4487b796",
   "metadata": {},
   "outputs": [],
   "source": [
    "train_ds, test_ds = datasets.Loader.load_MedNIST()"
   ]
  },
  {
   "cell_type": "code",
   "execution_count": 3,
   "id": "57630a49-faf7-454a-ad55-3e32c0b7a538",
   "metadata": {},
   "outputs": [
    {
     "name": "stdout",
     "output_type": "stream",
     "text": [
      "472\n",
      "117\n"
     ]
    }
   ],
   "source": [
    "print(len(train_ds))\n",
    "print(len(test_ds))"
   ]
  },
  {
   "cell_type": "code",
   "execution_count": null,
   "id": "ebe80b16-8110-4553-a83e-f2c0859c270e",
   "metadata": {},
   "outputs": [],
   "source": []
  },
  {
   "cell_type": "code",
   "execution_count": null,
   "id": "2c6baf0b-f603-4a2a-84c3-c22c16ba9790",
   "metadata": {},
   "outputs": [],
   "source": []
  }
 ],
 "metadata": {
  "kernelspec": {
   "display_name": "Python 3",
   "language": "python",
   "name": "python3"
  },
  "language_info": {
   "codemirror_mode": {
    "name": "ipython",
    "version": 3
   },
   "file_extension": ".py",
   "mimetype": "text/x-python",
   "name": "python",
   "nbconvert_exporter": "python",
   "pygments_lexer": "ipython3",
   "version": "3.9.4"
  }
 },
 "nbformat": 4,
 "nbformat_minor": 5
}
