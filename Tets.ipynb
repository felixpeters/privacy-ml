{
 "cells": [
  {
   "cell_type": "code",
   "execution_count": 3,
   "id": "ebe80b16-8110-4553-a83e-f2c0859c270e",
   "metadata": {},
   "outputs": [],
   "source": [
    "from tools import models, datasets\n",
    "import torch"
   ]
  },
  {
   "cell_type": "code",
   "execution_count": 11,
   "id": "3fac688d-3b1a-4367-aa87-4db96715b675",
   "metadata": {},
   "outputs": [
    {
     "name": "stdout",
     "output_type": "stream",
     "text": [
      "[-1, 4, 1, 64, 64]\n",
      "tensor([[0.0709],\n",
      "        [0.8210]])\n",
      "tensor([[0.0709, 0.8210]])\n"
     ]
    }
   ],
   "source": [
    "first = [-1, 4]\n",
    "second = [1, 64, 64]\n",
    "\n",
    "first.extend(second)\n",
    "print(first)\n",
    "\n",
    "tensor = torch.rand(2, 1)\n",
    "print(tensor)\n",
    "print(tensor.view([1, 2]))"
   ]
  }
 ],
 "metadata": {
  "kernelspec": {
   "display_name": "Python 3",
   "language": "python",
   "name": "python3"
  },
  "language_info": {
   "codemirror_mode": {
    "name": "ipython",
    "version": 3
   },
   "file_extension": ".py",
   "mimetype": "text/x-python",
   "name": "python",
   "nbconvert_exporter": "python",
   "pygments_lexer": "ipython3",
   "version": "3.9.4"
  }
 },
 "nbformat": 4,
 "nbformat_minor": 5
}
