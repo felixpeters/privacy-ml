{
 "cells": [
  {
   "cell_type": "code",
   "execution_count": 2,
   "id": "ebe80b16-8110-4553-a83e-f2c0859c270e",
   "metadata": {},
   "outputs": [],
   "source": [
    "import pandas as pd"
   ]
  },
  {
   "cell_type": "code",
   "execution_count": 13,
   "id": "f6614610-72e4-45d1-80e8-4b4f065f186f",
   "metadata": {},
   "outputs": [],
   "source": [
    "df = pd.DataFrame(columns=['model', 'dataset', 'batch_size', 'epochs', \n",
    "                               'learning_rate', 'train_sample_size', 'test_sample_size', \n",
    "                               'val_sample_size', 'delta', 'noise_multiplier',\n",
    "                               'max_grad_norm', 'dp_used', 'epsilons',\n",
    "                               'alphas', 'losses', 'test_accs', 'test_losses', \n",
    "                               'val_acc', 'val_loss', 'epoch_times'])\n",
    "df.index.name = '1DS'\n",
    "\n",
    "df.to_csv('./Results/1DS.csv')\n"
   ]
  },
  {
   "cell_type": "code",
   "execution_count": 14,
   "id": "85726cab-43e0-4b43-99f7-1f72a2c143a9",
   "metadata": {},
   "outputs": [
    {
     "data": {
      "text/html": [
       "<div>\n",
       "<style scoped>\n",
       "    .dataframe tbody tr th:only-of-type {\n",
       "        vertical-align: middle;\n",
       "    }\n",
       "\n",
       "    .dataframe tbody tr th {\n",
       "        vertical-align: top;\n",
       "    }\n",
       "\n",
       "    .dataframe thead th {\n",
       "        text-align: right;\n",
       "    }\n",
       "</style>\n",
       "<table border=\"1\" class=\"dataframe\">\n",
       "  <thead>\n",
       "    <tr style=\"text-align: right;\">\n",
       "      <th></th>\n",
       "      <th>1DS</th>\n",
       "      <th>model</th>\n",
       "      <th>dataset</th>\n",
       "      <th>batch_size</th>\n",
       "      <th>epochs</th>\n",
       "      <th>learning_rate</th>\n",
       "      <th>train_sample_size</th>\n",
       "      <th>test_sample_size</th>\n",
       "      <th>val_sample_size</th>\n",
       "      <th>delta</th>\n",
       "      <th>...</th>\n",
       "      <th>max_grad_norm</th>\n",
       "      <th>dp_used</th>\n",
       "      <th>epsilons</th>\n",
       "      <th>alphas</th>\n",
       "      <th>losses</th>\n",
       "      <th>test_accs</th>\n",
       "      <th>test_losses</th>\n",
       "      <th>val_acc</th>\n",
       "      <th>val_loss</th>\n",
       "      <th>epoch_times</th>\n",
       "    </tr>\n",
       "  </thead>\n",
       "  <tbody>\n",
       "  </tbody>\n",
       "</table>\n",
       "<p>0 rows × 21 columns</p>\n",
       "</div>"
      ],
      "text/plain": [
       "Empty DataFrame\n",
       "Columns: [1DS, model, dataset, batch_size, epochs, learning_rate, train_sample_size, test_sample_size, val_sample_size, delta, noise_multiplier, max_grad_norm, dp_used, epsilons, alphas, losses, test_accs, test_losses, val_acc, val_loss, epoch_times]\n",
       "Index: []\n",
       "\n",
       "[0 rows x 21 columns]"
      ]
     },
     "metadata": {},
     "output_type": "display_data"
    }
   ],
   "source": [
    "df = pd.read_csv('./Results/1DS.csv')\n",
    "display(df)"
   ]
  }
 ],
 "metadata": {
  "kernelspec": {
   "display_name": "Python 3",
   "language": "python",
   "name": "python3"
  },
  "language_info": {
   "codemirror_mode": {
    "name": "ipython",
    "version": 3
   },
   "file_extension": ".py",
   "mimetype": "text/x-python",
   "name": "python",
   "nbconvert_exporter": "python",
   "pygments_lexer": "ipython3",
   "version": "3.9.4"
  }
 },
 "nbformat": 4,
 "nbformat_minor": 5
}
