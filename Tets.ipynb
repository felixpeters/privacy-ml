{
 "cells": [
  {
   "cell_type": "code",
   "execution_count": 1,
   "id": "25369a6a-c904-44ff-ae44-9805d5e8d625",
   "metadata": {},
   "outputs": [],
   "source": [
    "import datasets\n",
    "import torch"
   ]
  },
  {
   "cell_type": "code",
   "execution_count": 2,
   "id": "7bac774d-a1a3-4f7f-80b4-adb129e8c64a",
   "metadata": {},
   "outputs": [],
   "source": [
    "ds = datasets.IXIT1Dataset()\n",
    "\n",
    "data, labels = ds.as_tensor()"
   ]
  }
 ],
 "metadata": {
  "kernelspec": {
   "display_name": "Python 3",
   "language": "python",
   "name": "python3"
  },
  "language_info": {
   "codemirror_mode": {
    "name": "ipython",
    "version": 3
   },
   "file_extension": ".py",
   "mimetype": "text/x-python",
   "name": "python",
   "nbconvert_exporter": "python",
   "pygments_lexer": "ipython3",
   "version": "3.9.4"
  }
 },
 "nbformat": 4,
 "nbformat_minor": 5
}
