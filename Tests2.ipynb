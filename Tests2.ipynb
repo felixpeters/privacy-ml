{
 "cells": [
  {
   "cell_type": "code",
   "execution_count": 1,
   "id": "732dfac6-45c4-4a5b-81d6-579d17a125e2",
   "metadata": {},
   "outputs": [],
   "source": [
    "from tools import datasets"
   ]
  },
  {
   "cell_type": "code",
   "execution_count": 7,
   "id": "1487968f-3aa8-48e8-aced-21b82c6d0f6d",
   "metadata": {},
   "outputs": [
    {
     "name": "stdout",
     "output_type": "stream",
     "text": [
      "294\n"
     ]
    }
   ],
   "source": [
    "train_ds, test_ds, val_ds = datasets.Loader.load_MedNIST(sample_size=0.1, test_size=0.1, val_size=0.05)\n",
    "train_data, train_labels = train_ds.as_tensor()\n",
    "test_data, test_labels = test_ds.as_tensor()\n",
    "val_data, val_labels = val_ds.as_tensor()\n",
    "\n",
    "print(len(val_data))"
   ]
  },
  {
   "cell_type": "code",
   "execution_count": 3,
   "id": "650cdfb1-cf87-4e2e-9956-b2fb1b1d651f",
   "metadata": {},
   "outputs": [
    {
     "name": "stdout",
     "output_type": "stream",
     "text": [
      "tensor([1, 0, 3, 3, 1, 5, 3, 1, 2, 3])\n",
      "tensor([0, 0, 0, 2, 5, 1, 5, 3, 5, 1])\n",
      "tensor([4, 5, 1, 2, 4, 4, 2, 3, 5, 5])\n"
     ]
    }
   ],
   "source": [
    "print(train_labels[:10])\n",
    "print(test_labels[:10])\n",
    "print(val_labels[:10])"
   ]
  }
 ],
 "metadata": {
  "kernelspec": {
   "display_name": "Python 3",
   "language": "python",
   "name": "python3"
  },
  "language_info": {
   "codemirror_mode": {
    "name": "ipython",
    "version": 3
   },
   "file_extension": ".py",
   "mimetype": "text/x-python",
   "name": "python",
   "nbconvert_exporter": "python",
   "pygments_lexer": "ipython3",
   "version": "3.9.4"
  }
 },
 "nbformat": 4,
 "nbformat_minor": 5
}
