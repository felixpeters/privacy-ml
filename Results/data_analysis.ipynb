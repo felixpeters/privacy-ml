{
 "cells": [
  {
   "cell_type": "code",
   "execution_count": 1,
   "id": "c1654226-ce6a-4314-a60c-b9f4b1835c5d",
   "metadata": {},
   "outputs": [],
   "source": [
    "import pandas as pd\n",
    "from ast import literal_eval\n",
    "import numpy as np\n",
    "import matplotlib.pyplot as plt"
   ]
  },
  {
   "cell_type": "code",
   "execution_count": 34,
   "id": "2a99484b-f62a-4ffd-b2ea-ca726f347374",
   "metadata": {},
   "outputs": [],
   "source": [
    "def get_avg_of_col(df, parameters, parameter_name, col):\n",
    "    result = []\n",
    "    \n",
    "    for param in parameters:\n",
    "        series = np.vstack(df.loc[df[parameter_name] == param][col]).apply(literal_eval))\n",
    "        \n",
    "        mean = np.mean(series, axis=0)\n",
    "\n",
    "        result.append(mean)\n",
    "       \n",
    "    return result\n",
    "\n",
    "\n",
    "def get_avg_test_values(df, parameters, parameter_name):\n",
    "    test_acc = get_avg_of_col(df, parameters, parameter_name, 'test_accs')\n",
    "    test_loss = get_avg_of_col(df, parameters, parameter_name, 'test_losses')\n",
    "\n",
    "    return test_acc, test_loss\n",
    "\n",
    "\n",
    "def make_plot(data, variable, xlabel='', ylabel='', title='', path=''):\n",
    "    y = np.arange(30) + 1\n",
    "    \n",
    "    fig, ax = plt.subplots()\n",
    "    for X, var in zip(data, variable):\n",
    "        ax.plot(y, X, '--', label=var)\n",
    "    ax.set(xlabel=xlabel, ylabel=ylabel , title=title)\n",
    "    plt.legend()\n",
    "\n",
    "    if path:\n",
    "        fig.savefig(path)\n",
    "    \n",
    "    plt.show()\n",
    "    \n",
    "    \n",
    "def make_double_plot(data_1, data_2, legend_1, legend_2, xlabel='', ylabel_1='', ylabel_2='', title='', path=''):\n",
    "    y = np.arange(len(data_1[0])) + 1\n",
    "\n",
    "    fig, ax = plt.subplots()\n",
    "    for X in data_1:\n",
    "        ax.plot(y, X, '--', )\n",
    "    ax.set(xlabel=xlabel, ylabel=ylabel_1, title=title)\n",
    "\n",
    "    ax2 = ax.twinx()\n",
    "\n",
    "    for X in data_2:\n",
    "        ax2.plot(y, X, ':', )\n",
    "    ax2.set(ylabel=ylabel_2)\n",
    "\n",
    "    lines1 = ax.get_lines()\n",
    "    lines2 = ax2.get_lines()\n",
    "    legend1 = plt.legend([line for line in lines1], legend_1, loc=2, framealpha=0.5)\n",
    "    legend2 = plt.legend([line for line in lines2], legend_2, loc=(0.72, 0.1))\n",
    "    fig.add_artist(legend1)\n",
    "    fig.add_artist(legend2)\n",
    "    \n",
    "    if path:\n",
    "        plt.savefig(path)\n",
    "\n",
    "    plt.show()\n",
    "        \n"
   ]
  },
  {
   "cell_type": "code",
   "execution_count": 19,
   "id": "bac2c3e8-597f-4802-80d8-d5ef18fc16d8",
   "metadata": {},
   "outputs": [],
   "source": [
    "df = pd.read_csv('./1DS/1DS_DP_gridsearch.csv')\n",
    "df = df.loc[df['max_grad_norm'] == 5.0]\n",
    "df = df.loc[df['learning_rate'] == 0.0025]\n",
    "\n",
    "mults = [0.1, 0.5, 1.0, 1.5, 2.0, 2.5, 3.0, 3.5, 4.0]\n",
    "\n",
    "acc, loss = get_avg_test_values(df, mults, 'noise_multiplier')\n",
    "epsilons = get_avg_of_col(df, mults, 'noise_multiplier', 'epsilons')\n",
    "\n",
    "# make_plot(loss, mults, xlabel=\"Epochs\", ylabel=\"Test Loss\",\n",
    "#         title=\"Test Loss by noise multiplier\", path=\"./1DS/DP_test_loss_noise_mult_2.jpg\")\n",
    "# make_plot(fl_data, lrs, xlabel=\"Epochs\", ylabel=\"Test Accuracy\",\n",
    "#         title=\"Federated Learning\", path=\"./1DS/FL_test_acc_lr.jpg\")"
   ]
  },
  {
   "cell_type": "code",
   "execution_count": 41,
   "id": "3a589ec2-138b-4859-8095-c0d6d757ffbb",
   "metadata": {},
   "outputs": [
    {
     "name": "stdout",
     "output_type": "stream",
     "text": [
      "[[ 0.97087379 30.        ]\n",
      " [ 0.92071197 21.        ]\n",
      " [ 0.89724919 15.        ]\n",
      " [ 0.87378641 12.        ]\n",
      " [ 0.85770631 19.        ]\n",
      " [ 0.86299892 15.        ]\n",
      " [ 0.83066819 18.        ]\n",
      " [ 0.822411   14.        ]\n",
      " [ 0.80582524 17.        ]]\n"
     ]
    },
    {
     "data": {
      "image/png": "[encoded data removed]",
      "text/plain": [
       "<Figure size 432x288 with 1 Axes>"
      ]
     },
     "metadata": {
      "needs_background": "light"
     },
     "output_type": "display_data"
    }
   ],
   "source": [
    "best_accs = np.array([[np.max(a), np.argmax(a) + 1] for a in acc])\n",
    "\n",
    "\n",
    "print(best_accs)\n",
    "\n",
    "fig, ax = plt.subplots()\n",
    "ax.scatter([0.1, 0.5, 1.0, 1.5, 2.0, 2.5, 3.0, 3.5, 4.0], best_accs[:,0])\n",
    "ax.set(xlabel=\"Noise Multiplier\", ylabel=\"Best Mean Test Accuracy\")\n",
    "plt.savefig(\"./1DS/best_test_accs_by_noise_mult.jpg\")\n",
    "plt.show()"
   ]
  },
  {
   "cell_type": "code",
   "execution_count": 40,
   "id": "8c01dee7-3254-4457-b243-eeb3c5409d7e",
   "metadata": {},
   "outputs": [
    {
     "name": "stdout",
     "output_type": "stream",
     "text": [
      "[0.979591836734694, 0.9489795918367347, 0.9081632653061223, 0.9081632653061223, 0.8877551020408163, 0.8945578231292517, 0.8775510204081632, 0.8775510204081632, 0.8435374149659864]\n"
     ]
    }
   ],
   "source": [
    "df = pd.read_csv(\"./1DS/1DS_DP_val_accs.csv\")\n",
    "\n",
    "best_val_accs = []\n",
    "\n",
    "for mult in mults:\n",
    "    series = df.loc[df['noise_multiplier'] == mult]['val_acc']\n",
    "    best_val_accs.append(np.max(series))\n",
    "    \n",
    "print(best_val_accs)"
   ]
  },
  {
   "cell_type": "code",
   "execution_count": 5,
   "id": "be20e396-c76c-4cd1-84c9-40fc994661b0",
   "metadata": {},
   "outputs": [],
   "source": [
    "# data_acc = [fl_acc[3], no_fl_acc[3]]\n",
    "# data_loss = [fl_loss[3], no_fl_loss[3]]\n",
    "\n",
    "# make_double_plot(data_acc, data_loss, ['FL accuracy', 'No FL accuracy'], ['FL loss', 'No FL loss'])"
   ]
  }
 ],
 "metadata": {
  "kernelspec": {
   "display_name": "Python 3",
   "language": "python",
   "name": "python3"
  },
  "language_info": {
   "codemirror_mode": {
    "name": "ipython",
    "version": 3
   },
   "file_extension": ".py",
   "mimetype": "text/x-python",
   "name": "python",
   "nbconvert_exporter": "python",
   "pygments_lexer": "ipython3",
   "version": "3.9.4"
  }
 },
 "nbformat": 4,
 "nbformat_minor": 5
}
