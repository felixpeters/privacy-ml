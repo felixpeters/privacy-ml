{
 "cells": [
  {
   "cell_type": "code",
   "execution_count": null,
   "id": "0c505b0e-2ab1-40f6-95a8-9b1460d90820",
   "metadata": {},
   "outputs": [],
   "source": [
    "import syft as sy\n",
    "from tools import datasets\n",
    "import time\n",
    "\n",
    "sy.load('opacus')"
   ]
  },
  {
   "cell_type": "code",
   "execution_count": null,
   "id": "3d1a68f4-524b-43fc-87ee-7c4ce3f695f2",
   "metadata": {},
   "outputs": [],
   "source": [
    "duet = sy.launch_duet(loopback=True)\n",
    "num_of_data_owners = 2"
   ]
  },
  {
   "cell_type": "code",
   "execution_count": null,
   "id": "21eb754f-a4df-4226-a558-1796083b38f5",
   "metadata": {},
   "outputs": [],
   "source": [
    "start_time = time.time()\n",
    "\n",
    "# Get the whole data from the Loader\n",
    "train_ds, test_ds = datasets.Loader.load_MedNIST(sample_size=0.035, test_size=0.1)\n",
    "train_data, train_labels = train_ds.as_tensor()\n",
    "test_data, test_labels = test_ds.as_tensor()\n",
    "\n",
    "# Take this Data Owners split of the data \n",
    "# NOTE: The shuffle in load_MedNIST is seeded and therefore every call gets the same order\n",
    "train_len = len(train_data)\n",
    "train_split_len = int(1/num_data_owners * train_len)\n",
    "test_len = len(test_data)\n",
    "test_split_len = int(1/num_data_owners * test_len)\n",
    "\n",
    "train_data, train_labels = train_data[train_split_len:2*train_split_len], train_labels[train_split_len:2*train_split_len]\n",
    "test_data, test_labels = test_data[test_split_len:2*test_split_len], test_labels[test_split_len:2*test_split_len]\n",
    "\n",
    "# Send his data to the duet.store\n",
    "duet_start_time = time.time()\n",
    "\n",
    "train_data.send(duet, pointable=True)\n",
    "train_labels.send(duet, pointable=True)\n",
    "\n",
    "test_data.send(duet, pointable=True)\n",
    "test_labels.send(duet, pointable=True)\n",
    "\n",
    "end_time = time.time()\n",
    "\n",
    "print(f'Load + Send: {float(end_time - start_time)} seconds')\n",
    "print(f'Send: {float(end_time - duet_start_time)} seconds')\n",
    "print(train_len)\n",
    "print(test_len\n"
   ]
  },
  {
   "cell_type": "code",
   "execution_count": null,
   "id": "57310401-b904-45c5-8739-d1b72f1cd7cc",
   "metadata": {},
   "outputs": [],
   "source": [
    "duet.requests.add_handler(action=\"accept\")"
   ]
  }
 ],
 "metadata": {
  "kernelspec": {
   "display_name": "Python 3",
   "language": "python",
   "name": "python3"
  },
  "language_info": {
   "codemirror_mode": {
    "name": "ipython",
    "version": 3
   },
   "file_extension": ".py",
   "mimetype": "text/x-python",
   "name": "python",
   "nbconvert_exporter": "python",
   "pygments_lexer": "ipython3",
   "version": "3.9.4"
  }
 },
 "nbformat": 4,
 "nbformat_minor": 5
}
