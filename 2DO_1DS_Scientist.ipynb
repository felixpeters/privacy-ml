{
 "cells": [
  {
   "cell_type": "code",
   "execution_count": null,
   "id": "af890cd1-1082-4855-a1f6-f3dd2fc86fed",
   "metadata": {},
   "outputs": [],
   "source": [
    "import syft as sy\n",
    "import torch\n",
    "from tools import models\n",
    "import numpy as np\n",
    "import pandas as pd\n",
    "import time\n",
    "\n",
    "sy.load('opacus')\n",
    "np.random.seed(42) # The meaning of life!"
   ]
  },
  {
   "cell_type": "markdown",
   "id": "d8d6c9f0-9bd0-4c87-a0b3-873dc9bc913f",
   "metadata": {},
   "source": [
    "#### Connect to to Data Owner 1"
   ]
  },
  {
   "cell_type": "code",
   "execution_count": null,
   "id": "34024340-4c83-452e-9a7b-ff133362d46e",
   "metadata": {},
   "outputs": [],
   "source": [
    "duet1 = sy.launch_duet(loopback=True)"
   ]
  },
  {
   "cell_type": "markdown",
   "id": "c4bed1dd-415b-4dc8-b1ba-3a155d386599",
   "metadata": {},
   "source": [
    "#### Connect to to Data Owner 2"
   ]
  },
  {
   "cell_type": "code",
   "execution_count": null,
   "id": "df7a9b4f-076b-4040-aa59-a9bf8c5a6a14",
   "metadata": {},
   "outputs": [],
   "source": [
    "duet2 = sy.launch_duet(loopback=True)"
   ]
  },
  {
   "cell_type": "markdown",
   "id": "1ccc50a2-8f5d-4f98-a1f3-86ddbff2aa07",
   "metadata": {},
   "source": [
    "#### Get the Pointers to the data"
   ]
  },
  {
   "cell_type": "code",
   "execution_count": null,
   "id": "ed069a74-540c-4f8c-9e7d-ee8aff3d6316",
   "metadata": {},
   "outputs": [],
   "source": [
    "# Make list of all duets\n",
    "duets = [duet1, duet2]\n",
    "\n",
    "# Get pointers from store\n",
    "train_ptrs = [(duet.store[0], duet.store[1]) for duet in duets]\n",
    "test_ptrs = [(duet.store[2], duet.store[3]) for duet in duets]"
   ]
  },
  {
   "cell_type": "markdown",
   "id": "f88b855f-2e85-49d0-97e9-2efe429e9931",
   "metadata": {},
   "source": [
    "#### Constants for training and tracking"
   ]
  },
  {
   "cell_type": "code",
   "execution_count": null,
   "id": "b00aa62e-8b58-4248-852e-501d67223cff",
   "metadata": {},
   "outputs": [],
   "source": [
    "#Constants for tracking purposes\n",
    "MODEL = 'Deep2DNet'\n",
    "DATASET = 'MedNIST'\n",
    "TRACKING = True # Whether or not this run should be tracked in the results csv file\n",
    "DP = False # Whether or not Differential Privacy should be applied\n",
    "\n",
    "# Parameters for training and Differential Privacy\n",
    "BATCH_SIZE = 100\n",
    "EPOCHS = 10\n",
    "LEARNING_RATE = 0.002 if DP else 0.001\n",
    "\n",
    "DELTA = 1e-3 # Set to be less then the inverse of the size of the training dataset (from https://opacus.ai/tutorials/building_image_classifier)\n",
    "NOISE_MULTIPLIER = 2.0 # The amount of noise sampled and added to the average of the gradients in a batch (from https://opacus.ai/tutorials/building_image_classifier)\n",
    "MAX_GRAD_NORM = 1.2 # The maximum L2 norm of per-sample gradients before they are aggregated by the averaging step (from https://opacus.ai/tutorials/building_image_classifier)\n",
    "\n",
    "length = len(train_data_ptr)\n",
    "SAMPLE_SIZE = length - length % BATCH_SIZE # NOTE: Current implementation only trains data in multiples of batch size. So BATCH_SIZE % LENGTH amount of data will not be used for training.\n",
    "SAMPLE_RATE = BATCH_SIZE / SAMPLE_SIZE"
   ]
  },
  {
   "cell_type": "markdown",
   "id": "81eb3301-bfb8-4383-aef5-bab75cc1a33f",
   "metadata": {},
   "source": [
    "#### Setup Models and Differential Privacy Engine"
   ]
  },
  {
   "cell_type": "code",
   "execution_count": null,
   "id": "27155d30-7da3-426a-bf46-06a667915f50",
   "metadata": {},
   "outputs": [],
   "source": [
    "# Setups contains per duet/DO one set of: \n",
    "# 1. remote_model  2. remote_torch  3. optimizer  4. loss_function  5. device   6. privacy_engine_ptr  \n",
    "setups = [] \n",
    "\n",
    "for duet in duets:\n",
    "    # Getting remote and local instances\n",
    "    local_model = models.Deep2DNet(torch)\n",
    "    remote_model = local_model.send(duet)\n",
    "    remote_torch = duet.torch\n",
    "    remote_opacus = duet.opacus\n",
    "    \n",
    "    # Setting device to train on\n",
    "    cuda_available = remote_torch.cuda.is_available().get(request_block=True, reason='Need to check for available GPU!')\n",
    "    if cuda_available:\n",
    "        device = remote_torch.device('cuda:0')\n",
    "        remote_model.cuda(device)\n",
    "    else:\n",
    "        device = remote_torch.device('cpu')\n",
    "        remote_model.cpu()\n",
    "\n",
    "    # Optimizer and Loss Function\n",
    "    params = remote_model.parameters()\n",
    "    optim = remote_torch.optim.Adam(params=params, lr=LEARNING_RATE)\n",
    "    loss_function = remote_torch.nn.CrossEntropyLoss()\n",
    "\n",
    "    # Setting up Differential Privacy Engine\n",
    "    if DP:\n",
    "        privacy_engine_ptr = remote_opacus.privacy_engine.PrivacyEngine(\n",
    "            remote_model.real_module, sample_rate=SAMPLE_RATE,\n",
    "            noise_multiplier=NOISE_MULTIPLIER, max_grad_norm=MAX_GRAD_NORM\n",
    "        )\n",
    "        privacy_engine_ptr.to(device)\n",
    "        privacy_engine_ptr.attach(optim)\n",
    "    else:\n",
    "        privacy_engine_ptr = None\n",
    "        \n",
    "    setup = [remote_model, remote_torch, optimizer, loss_function, device, privacy_engine_ptr]\n",
    "    setups.append(setup)\n"
   ]
  },
  {
   "cell_type": "markdown",
   "id": "208938d7-aada-4834-89a2-024862ca4f8c",
   "metadata": {},
   "source": [
    "#### Train the Models at each Data Owner"
   ]
  },
  {
   "cell_type": "code",
   "execution_count": null,
   "id": "7c9b9da6-318b-44a2-9a88-5ca8a4984b9a",
   "metadata": {},
   "outputs": [],
   "source": [
    "for train, test, setup in zip(train_ptrs, test_ptrs, setups):\n",
    "    \n",
    "    losses, test_accs, test_losses, epsilons, alphas, epoch_times = train(BATCH_SIZE, EPOCHS, DELTA, \n",
    "                                                                          setup[0], setup[1],\n",
    "                                                                          setup[2], setup[3], \n",
    "                                                                          train[0], train[1], \n",
    "                                                                          test[0], test[1], \n",
    "                                                                          [1, 64, 64], setup[4], setup[5])\n",
    "    \n",
    "    \n",
    "    \n",
    "    "
   ]
  }
 ],
 "metadata": {
  "kernelspec": {
   "display_name": "Python 3",
   "language": "python",
   "name": "python3"
  },
  "language_info": {
   "codemirror_mode": {
    "name": "ipython",
    "version": 3
   },
   "file_extension": ".py",
   "mimetype": "text/x-python",
   "name": "python",
   "nbconvert_exporter": "python",
   "pygments_lexer": "ipython3",
   "version": "3.9.4"
  }
 },
 "nbformat": 4,
 "nbformat_minor": 5
}
