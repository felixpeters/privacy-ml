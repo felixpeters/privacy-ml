{
 "cells": [
  {
   "cell_type": "code",
   "execution_count": null,
   "id": "af890cd1-1082-4855-a1f6-f3dd2fc86fed",
   "metadata": {},
   "outputs": [],
   "source": [
    "import syft as sy\n",
    "import torch\n",
    "from tools import models\n",
    "import numpy as np\n",
    "import pandas as pd\n",
    "import time\n",
    "\n",
    "sy.load('opacus')\n",
    "np.random.seed(42) # The meaning of life!"
   ]
  },
  {
   "cell_type": "markdown",
   "id": "d8d6c9f0-9bd0-4c87-a0b3-873dc9bc913f",
   "metadata": {},
   "source": [
    "#### Connect to to Data Owner 1"
   ]
  },
  {
   "cell_type": "code",
   "execution_count": null,
   "id": "34024340-4c83-452e-9a7b-ff133362d46e",
   "metadata": {},
   "outputs": [],
   "source": [
    "duet1 = sy.launch_duet(loopback=True)"
   ]
  },
  {
   "cell_type": "markdown",
   "id": "c4bed1dd-415b-4dc8-b1ba-3a155d386599",
   "metadata": {},
   "source": [
    "#### Connect to to Data Owner 2"
   ]
  },
  {
   "cell_type": "code",
   "execution_count": null,
   "id": "df7a9b4f-076b-4040-aa59-a9bf8c5a6a14",
   "metadata": {},
   "outputs": [],
   "source": [
    "duet2 = sy.launch_duet(loopback=True)"
   ]
  },
  {
   "cell_type": "markdown",
   "id": "1ccc50a2-8f5d-4f98-a1f3-86ddbff2aa07",
   "metadata": {},
   "source": [
    "#### Get the Pointers to the data"
   ]
  },
  {
   "cell_type": "code",
   "execution_count": null,
   "id": "ed069a74-540c-4f8c-9e7d-ee8aff3d6316",
   "metadata": {},
   "outputs": [],
   "source": [
    "# Data from owner 1\n",
    "train_data_ptr_1 = duet1.store[0]\n",
    "train1_labels_ptr_1 = duet1.store[1]\n",
    "\n",
    "test_data_ptr_1 = duet1.store[2]\n",
    "test_labels_ptr_1 = duet1.store[3]\n",
    "\n",
    "# Data from owner 2\n",
    "train_data_ptr_2 = duet2.store[0]\n",
    "train_labels_ptr_2 = duet2.store[1]\n",
    "\n",
    "test_data_ptr_2 = duet2.store[2]\n",
    "test_labels_ptr_2 = duet2.store[3]"
   ]
  },
  {
   "cell_type": "markdown",
   "id": "81eb3301-bfb8-4383-aef5-bab75cc1a33f",
   "metadata": {},
   "source": [
    "#### Setup the Models and Differential Privacy Engine"
   ]
  },
  {
   "cell_type": "code",
   "execution_count": null,
   "id": "b00aa62e-8b58-4248-852e-501d67223cff",
   "metadata": {},
   "outputs": [],
   "source": [
    " Constants for tracking purposes\n",
    "MODEL = 'Deep2DNet'\n",
    "DATASET = 'MedNIST'\n",
    "TRACKING = True # Whether or not this run should be tracked in the results csv file\n",
    "DP = False # Whether or not Differential Privacy should be applied\n",
    "\n",
    "# Parameters for training and Differential Privacy\n",
    "BATCH_SIZE = 100\n",
    "EPOCHS = 10\n",
    "LEARNING_RATE = 0.003 if DP else 0.0005\n",
    "\n",
    "DELTA = 1e-3 # Set to be less then the inverse of the size of the training dataset (from https://opacus.ai/tutorials/building_image_classifier)\n",
    "NOISE_MULTIPLIER = 2.0 # The amount of noise sampled and added to the average of the gradients in a batch (from https://opacus.ai/tutorials/building_image_classifier)\n",
    "MAX_GRAD_NORM = 1.2 # The maximum L2 norm of per-sample gradients before they are aggregated by the averaging step (from https://opacus.ai/tutorials/building_image_classifier)\n",
    "\n",
    "length = len(train_data_ptr)\n",
    "SAMPLE_SIZE = length - length % BATCH_SIZE # NOTE: Current implementation only trains data in multiples of batch size. So BATCH_SIZE % LENGTH amount of data will not be used for training.\n",
    "SAMPLE_RATE = BATCH_SIZE / SAMPLE_SIZE\n",
    "\n",
    "# Getting remote and local instances (DO1)\n",
    "local_model_1 = models.Deep2DNet(torch)\n",
    "remote_model_1 = local_model_1.send(duet1)\n",
    "remote_torch_1 = duet1.torch\n",
    "remote_opacus_1 = duet1.opacus\n",
    "\n",
    "# Getting remote and local instances (DO2)\n",
    "local_model_2 = models.Deep2DNet(torch)\n",
    "remote_model_2 = local_model_2.send(duet2)\n",
    "remote_torch_2 = duet2.torch\n",
    "remote_opacus_2 = duet2.opacus\n",
    "\n",
    "# Setting device to train on (DO1)\n",
    "cuda_available_1 = remote_torch_1.cuda.is_available().get(request_block=True, reason='Need to check for available GPU!')\n",
    "if cuda_available_1:\n",
    "    device_1 = remote_torch_1.device('cuda:0')\n",
    "    remote_model_1.cuda(device)\n",
    "else:\n",
    "    device_1 = remote_torch_1.device('cpu')\n",
    "    remote_model_1.cpu()\n",
    "    \n",
    "# Setting device to train on (DO2)\n",
    "cuda_available_2 = remote_torch_2.cuda.is_available().get(request_block=True, reason='Need to check for available GPU!')\n",
    "if cuda_available_2:\n",
    "    device_2 = remote_torch_2.device('cuda:0')\n",
    "    remote_model_2.cuda(device)\n",
    "else:\n",
    "    device_2 = remote_torch_2.device('cpu')\n",
    "    remote_model_2.cpu()\n",
    "\n",
    "# Optimizer and Loss Function (DO1)\n",
    "params_1 = remote_model_1.parameters()\n",
    "optim_1 = remote_torch_1.optim.Adam(params=params_1, lr=LEARNING_RATE) \n",
    "loss_function_1 = remote_torch_1.nn.CrossEntropyLoss()\n",
    "\n",
    "# Optimizer and Loss Function (DO2)\n",
    "params_2 = remote_model_2.parameters()\n",
    "optim_2 = remote_torch_2.optim.Adam(params=params_1, lr=LEARNING_RATE) \n",
    "loss_function_2 = remote_torch_2.nn.CrossEntropyLoss()\n",
    "\n",
    "# Setting up Differential Privacy Engine\n",
    "if DP:\n",
    "    privacy_engine_ptr_1 = remote_opacus.privacy_engine.PrivacyEngine(\n",
    "        remote_model_1.real_module, sample_rate=SAMPLE_RATE,\n",
    "        noise_multiplier=NOISE_MULTIPLIER, max_grad_norm=MAX_GRAD_NORM\n",
    "    )\n",
    "    privacy_engine_ptr_2.attach(optim_1)\n",
    "    \n",
    "    privacy_engine_ptr_2 = remote_opacus.privacy_engine.PrivacyEngine(\n",
    "        remote_model_2.real_module, sample_rate=SAMPLE_RATE,\n",
    "        noise_multiplier=NOISE_MULTIPLIER, max_grad_norm=MAX_GRAD_NORM\n",
    "    )\n",
    "    privacy_engine_ptr_2.attach(optim_2)\n",
    "else:\n",
    "    privacy_engine_ptr_1 = None\n",
    "    privacy_engine_ptr_1 = None"
   ]
  },
  {
   "cell_type": "markdown",
   "id": "208938d7-aada-4834-89a2-024862ca4f8c",
   "metadata": {},
   "source": [
    "#### Train the Models at each Data Owner"
   ]
  }
 ],
 "metadata": {
  "kernelspec": {
   "display_name": "Python 3",
   "language": "python",
   "name": "python3"
  },
  "language_info": {
   "codemirror_mode": {
    "name": "ipython",
    "version": 3
   },
   "file_extension": ".py",
   "mimetype": "text/x-python",
   "name": "python",
   "nbconvert_exporter": "python",
   "pygments_lexer": "ipython3",
   "version": "3.9.4"
  }
 },
 "nbformat": 4,
 "nbformat_minor": 5
}
